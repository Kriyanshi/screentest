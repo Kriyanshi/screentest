{
  "nbformat": 4,
  "nbformat_minor": 0,
  "metadata": {
    "colab": {
      "provenance": []
    },
    "kernelspec": {
      "name": "python3",
      "display_name": "Python 3"
    },
    "language_info": {
      "name": "python"
    }
  },
  "cells": [
    {
      "cell_type": "code",
      "execution_count": 33,
      "metadata": {
        "id": "-ZQoczE6mBSj"
      },
      "outputs": [],
      "source": [
        "import pandas as pd\n",
        "import numpy as np"
      ]
    },
    {
      "cell_type": "code",
      "source": [
        "df = pd.read_csv('iris.csv')"
      ],
      "metadata": {
        "id": "yT-hziismNn1"
      },
      "execution_count": 34,
      "outputs": []
    },
    {
      "cell_type": "code",
      "source": [
        "df"
      ],
      "metadata": {
        "colab": {
          "base_uri": "https://localhost:8080/",
          "height": 423
        },
        "id": "mJmh02QGmXgM",
        "outputId": "7e7b85b2-9890-431f-ae73-83e792c1fe4e"
      },
      "execution_count": 35,
      "outputs": [
        {
          "output_type": "execute_result",
          "data": {
            "text/plain": [
              "     sepal_length  sepal_width  petal_length  petal_width         species\n",
              "0             5.1          3.5           1.4          0.2     Iris-setosa\n",
              "1             4.9          3.0           1.4          0.2     Iris-setosa\n",
              "2             4.7          3.2           1.3          0.2     Iris-setosa\n",
              "3             4.6          3.1           1.5          0.2     Iris-setosa\n",
              "4             5.0          3.6           1.4          0.2     Iris-setosa\n",
              "..            ...          ...           ...          ...             ...\n",
              "145           6.7          3.0           5.2          2.3  Iris-virginica\n",
              "146           6.3          2.5           5.0          1.9  Iris-virginica\n",
              "147           6.5          3.0           5.2          2.0  Iris-virginica\n",
              "148           6.2          3.4           5.4          2.3  Iris-virginica\n",
              "149           5.9          3.0           5.1          1.8  Iris-virginica\n",
              "\n",
              "[150 rows x 5 columns]"
            ],
            "text/html": [
              "\n",
              "  <div id=\"df-07cd6a8f-3595-44e0-92e6-fc276636902b\">\n",
              "    <div class=\"colab-df-container\">\n",
              "      <div>\n",
              "<style scoped>\n",
              "    .dataframe tbody tr th:only-of-type {\n",
              "        vertical-align: middle;\n",
              "    }\n",
              "\n",
              "    .dataframe tbody tr th {\n",
              "        vertical-align: top;\n",
              "    }\n",
              "\n",
              "    .dataframe thead th {\n",
              "        text-align: right;\n",
              "    }\n",
              "</style>\n",
              "<table border=\"1\" class=\"dataframe\">\n",
              "  <thead>\n",
              "    <tr style=\"text-align: right;\">\n",
              "      <th></th>\n",
              "      <th>sepal_length</th>\n",
              "      <th>sepal_width</th>\n",
              "      <th>petal_length</th>\n",
              "      <th>petal_width</th>\n",
              "      <th>species</th>\n",
              "    </tr>\n",
              "  </thead>\n",
              "  <tbody>\n",
              "    <tr>\n",
              "      <th>0</th>\n",
              "      <td>5.1</td>\n",
              "      <td>3.5</td>\n",
              "      <td>1.4</td>\n",
              "      <td>0.2</td>\n",
              "      <td>Iris-setosa</td>\n",
              "    </tr>\n",
              "    <tr>\n",
              "      <th>1</th>\n",
              "      <td>4.9</td>\n",
              "      <td>3.0</td>\n",
              "      <td>1.4</td>\n",
              "      <td>0.2</td>\n",
              "      <td>Iris-setosa</td>\n",
              "    </tr>\n",
              "    <tr>\n",
              "      <th>2</th>\n",
              "      <td>4.7</td>\n",
              "      <td>3.2</td>\n",
              "      <td>1.3</td>\n",
              "      <td>0.2</td>\n",
              "      <td>Iris-setosa</td>\n",
              "    </tr>\n",
              "    <tr>\n",
              "      <th>3</th>\n",
              "      <td>4.6</td>\n",
              "      <td>3.1</td>\n",
              "      <td>1.5</td>\n",
              "      <td>0.2</td>\n",
              "      <td>Iris-setosa</td>\n",
              "    </tr>\n",
              "    <tr>\n",
              "      <th>4</th>\n",
              "      <td>5.0</td>\n",
              "      <td>3.6</td>\n",
              "      <td>1.4</td>\n",
              "      <td>0.2</td>\n",
              "      <td>Iris-setosa</td>\n",
              "    </tr>\n",
              "    <tr>\n",
              "      <th>...</th>\n",
              "      <td>...</td>\n",
              "      <td>...</td>\n",
              "      <td>...</td>\n",
              "      <td>...</td>\n",
              "      <td>...</td>\n",
              "    </tr>\n",
              "    <tr>\n",
              "      <th>145</th>\n",
              "      <td>6.7</td>\n",
              "      <td>3.0</td>\n",
              "      <td>5.2</td>\n",
              "      <td>2.3</td>\n",
              "      <td>Iris-virginica</td>\n",
              "    </tr>\n",
              "    <tr>\n",
              "      <th>146</th>\n",
              "      <td>6.3</td>\n",
              "      <td>2.5</td>\n",
              "      <td>5.0</td>\n",
              "      <td>1.9</td>\n",
              "      <td>Iris-virginica</td>\n",
              "    </tr>\n",
              "    <tr>\n",
              "      <th>147</th>\n",
              "      <td>6.5</td>\n",
              "      <td>3.0</td>\n",
              "      <td>5.2</td>\n",
              "      <td>2.0</td>\n",
              "      <td>Iris-virginica</td>\n",
              "    </tr>\n",
              "    <tr>\n",
              "      <th>148</th>\n",
              "      <td>6.2</td>\n",
              "      <td>3.4</td>\n",
              "      <td>5.4</td>\n",
              "      <td>2.3</td>\n",
              "      <td>Iris-virginica</td>\n",
              "    </tr>\n",
              "    <tr>\n",
              "      <th>149</th>\n",
              "      <td>5.9</td>\n",
              "      <td>3.0</td>\n",
              "      <td>5.1</td>\n",
              "      <td>1.8</td>\n",
              "      <td>Iris-virginica</td>\n",
              "    </tr>\n",
              "  </tbody>\n",
              "</table>\n",
              "<p>150 rows × 5 columns</p>\n",
              "</div>\n",
              "      <button class=\"colab-df-convert\" onclick=\"convertToInteractive('df-07cd6a8f-3595-44e0-92e6-fc276636902b')\"\n",
              "              title=\"Convert this dataframe to an interactive table.\"\n",
              "              style=\"display:none;\">\n",
              "        \n",
              "  <svg xmlns=\"http://www.w3.org/2000/svg\" height=\"24px\"viewBox=\"0 0 24 24\"\n",
              "       width=\"24px\">\n",
              "    <path d=\"M0 0h24v24H0V0z\" fill=\"none\"/>\n",
              "    <path d=\"M18.56 5.44l.94 2.06.94-2.06 2.06-.94-2.06-.94-.94-2.06-.94 2.06-2.06.94zm-11 1L8.5 8.5l.94-2.06 2.06-.94-2.06-.94L8.5 2.5l-.94 2.06-2.06.94zm10 10l.94 2.06.94-2.06 2.06-.94-2.06-.94-.94-2.06-.94 2.06-2.06.94z\"/><path d=\"M17.41 7.96l-1.37-1.37c-.4-.4-.92-.59-1.43-.59-.52 0-1.04.2-1.43.59L10.3 9.45l-7.72 7.72c-.78.78-.78 2.05 0 2.83L4 21.41c.39.39.9.59 1.41.59.51 0 1.02-.2 1.41-.59l7.78-7.78 2.81-2.81c.8-.78.8-2.07 0-2.86zM5.41 20L4 18.59l7.72-7.72 1.47 1.35L5.41 20z\"/>\n",
              "  </svg>\n",
              "      </button>\n",
              "      \n",
              "  <style>\n",
              "    .colab-df-container {\n",
              "      display:flex;\n",
              "      flex-wrap:wrap;\n",
              "      gap: 12px;\n",
              "    }\n",
              "\n",
              "    .colab-df-convert {\n",
              "      background-color: #E8F0FE;\n",
              "      border: none;\n",
              "      border-radius: 50%;\n",
              "      cursor: pointer;\n",
              "      display: none;\n",
              "      fill: #1967D2;\n",
              "      height: 32px;\n",
              "      padding: 0 0 0 0;\n",
              "      width: 32px;\n",
              "    }\n",
              "\n",
              "    .colab-df-convert:hover {\n",
              "      background-color: #E2EBFA;\n",
              "      box-shadow: 0px 1px 2px rgba(60, 64, 67, 0.3), 0px 1px 3px 1px rgba(60, 64, 67, 0.15);\n",
              "      fill: #174EA6;\n",
              "    }\n",
              "\n",
              "    [theme=dark] .colab-df-convert {\n",
              "      background-color: #3B4455;\n",
              "      fill: #D2E3FC;\n",
              "    }\n",
              "\n",
              "    [theme=dark] .colab-df-convert:hover {\n",
              "      background-color: #434B5C;\n",
              "      box-shadow: 0px 1px 3px 1px rgba(0, 0, 0, 0.15);\n",
              "      filter: drop-shadow(0px 1px 2px rgba(0, 0, 0, 0.3));\n",
              "      fill: #FFFFFF;\n",
              "    }\n",
              "  </style>\n",
              "\n",
              "      <script>\n",
              "        const buttonEl =\n",
              "          document.querySelector('#df-07cd6a8f-3595-44e0-92e6-fc276636902b button.colab-df-convert');\n",
              "        buttonEl.style.display =\n",
              "          google.colab.kernel.accessAllowed ? 'block' : 'none';\n",
              "\n",
              "        async function convertToInteractive(key) {\n",
              "          const element = document.querySelector('#df-07cd6a8f-3595-44e0-92e6-fc276636902b');\n",
              "          const dataTable =\n",
              "            await google.colab.kernel.invokeFunction('convertToInteractive',\n",
              "                                                     [key], {});\n",
              "          if (!dataTable) return;\n",
              "\n",
              "          const docLinkHtml = 'Like what you see? Visit the ' +\n",
              "            '<a target=\"_blank\" href=https://colab.research.google.com/notebooks/data_table.ipynb>data table notebook</a>'\n",
              "            + ' to learn more about interactive tables.';\n",
              "          element.innerHTML = '';\n",
              "          dataTable['output_type'] = 'display_data';\n",
              "          await google.colab.output.renderOutput(dataTable, element);\n",
              "          const docLink = document.createElement('div');\n",
              "          docLink.innerHTML = docLinkHtml;\n",
              "          element.appendChild(docLink);\n",
              "        }\n",
              "      </script>\n",
              "    </div>\n",
              "  </div>\n",
              "  "
            ]
          },
          "metadata": {},
          "execution_count": 35
        }
      ]
    },
    {
      "cell_type": "markdown",
      "source": [],
      "metadata": {
        "id": "G89e4rxKme2w"
      }
    },
    {
      "cell_type": "code",
      "source": [
        "df.isnull().sum()"
      ],
      "metadata": {
        "colab": {
          "base_uri": "https://localhost:8080/"
        },
        "id": "9aUO7zEDmaxp",
        "outputId": "0d640836-6dfa-47d4-b7f1-121494b06a9b"
      },
      "execution_count": 36,
      "outputs": [
        {
          "output_type": "execute_result",
          "data": {
            "text/plain": [
              "sepal_length    0\n",
              "sepal_width     0\n",
              "petal_length    0\n",
              "petal_width     0\n",
              "species         0\n",
              "dtype: int64"
            ]
          },
          "metadata": {},
          "execution_count": 36
        }
      ]
    },
    {
      "cell_type": "code",
      "source": [
        "import json"
      ],
      "metadata": {
        "id": "PE-4FVeVmhIQ"
      },
      "execution_count": 37,
      "outputs": []
    },
    {
      "cell_type": "code",
      "source": [
        "with open('file.json', 'r') as json_file:\n",
        "    data = json.load(json_file)"
      ],
      "metadata": {
        "id": "sBhHSLQ6mk0P"
      },
      "execution_count": 38,
      "outputs": []
    },
    {
      "cell_type": "code",
      "source": [
        "data"
      ],
      "metadata": {
        "colab": {
          "base_uri": "https://localhost:8080/"
        },
        "id": "G9qrYfBFmn_J",
        "outputId": "18d1c577-b995-454b-f15f-9b63b9f64317"
      },
      "execution_count": 39,
      "outputs": [
        {
          "output_type": "execute_result",
          "data": {
            "text/plain": [
              "{'session_name': 'test',\n",
              " 'session_description': 'test',\n",
              " 'design_state_data': {'session_info': {'project_id': '1',\n",
              "   'experiment_id': 'kkkk-11',\n",
              "   'dataset': 'iris_modified.csv',\n",
              "   'session_name': 'test',\n",
              "   'session_description': 'test'},\n",
              "  'target': {'prediction_type': 'Regression',\n",
              "   'target': 'petal_width',\n",
              "   'type': 'regression',\n",
              "   'partitioning': True},\n",
              "  'train': {'policy': 'Split the dataset',\n",
              "   'time_variable': 'sepal_length',\n",
              "   'sampling_method': 'No sampling(whole data)',\n",
              "   'split': 'Randomly',\n",
              "   'k_fold': False,\n",
              "   'train_ratio': 0,\n",
              "   'random_seed': 0},\n",
              "  'metrics': {'optomize_model_hyperparameters_for': 'AUC',\n",
              "   'optimize_threshold_for': 'F1 Score',\n",
              "   'compute_lift_at': 0,\n",
              "   'cost_matrix_gain_for_true_prediction_true_result': 1,\n",
              "   'cost_matrix_gain_for_true_prediction_false_result': 0,\n",
              "   'cost_matrix_gain_for_false_prediction_true_result': 0,\n",
              "   'cost_matrix_gain_for_false_prediction_false_result': 0},\n",
              "  'feature_handling': {'sepal_length': {'feature_name': 'sepal_length',\n",
              "    'is_selected': True,\n",
              "    'feature_variable_type': 'numerical',\n",
              "    'feature_details': {'numerical_handling': 'Keep as regular numerical feature',\n",
              "     'rescaling': 'No rescaling',\n",
              "     'make_derived_feats': False,\n",
              "     'missing_values': 'Impute',\n",
              "     'impute_with': 'Average of values',\n",
              "     'impute_value': 0}},\n",
              "   'sepal_width': {'feature_name': 'sepal_width',\n",
              "    'is_selected': True,\n",
              "    'feature_variable_type': 'numerical',\n",
              "    'feature_details': {'numerical_handling': 'Keep as regular numerical feature',\n",
              "     'rescaling': 'No rescaling',\n",
              "     'make_derived_feats': False,\n",
              "     'missing_values': 'Impute',\n",
              "     'impute_with': 'custom',\n",
              "     'impute_value': -1}},\n",
              "   'petal_length': {'feature_name': 'petal_length',\n",
              "    'is_selected': True,\n",
              "    'feature_variable_type': 'numerical',\n",
              "    'feature_details': {'numerical_handling': 'Keep as regular numerical feature',\n",
              "     'rescaling': 'No rescaling',\n",
              "     'make_derived_feats': False,\n",
              "     'missing_values': 'Impute',\n",
              "     'impute_with': 'Average of values',\n",
              "     'impute_value': 0}},\n",
              "   'petal_width': {'feature_name': 'petal_width',\n",
              "    'is_selected': True,\n",
              "    'feature_variable_type': 'numerical',\n",
              "    'feature_details': {'numerical_handling': 'Keep as regular numerical feature',\n",
              "     'rescaling': 'No rescaling',\n",
              "     'make_derived_feats': False,\n",
              "     'missing_values': 'Impute',\n",
              "     'impute_with': 'custom',\n",
              "     'impute_value': -2}},\n",
              "   'species': {'feature_name': 'species',\n",
              "    'is_selected': True,\n",
              "    'feature_variable_type': 'text',\n",
              "    'feature_details': {'text_handling': 'Tokenize and hash',\n",
              "     'hash_columns': 0}}},\n",
              "  'feature_generation': {'linear_interactions': [['petal_length',\n",
              "     'sepal_width']],\n",
              "   'linear_scalar_type': 'robust',\n",
              "   'polynomial_interactions': ['petal_length/sepal_width',\n",
              "    'petal_width/species'],\n",
              "   'explicit_pairwise_interactions': ['sepal_width/sepal_length',\n",
              "    'petal_width/sepal_length']},\n",
              "  'feature_reduction': {'feature_reduction_method': 'Tree-based',\n",
              "   'num_of_features_to_keep': '4',\n",
              "   'num_of_trees': '5',\n",
              "   'depth_of_trees': '6'},\n",
              "  'hyperparameters': {'stratergy': 'Grid Search',\n",
              "   'shuffle_grid': True,\n",
              "   'random_state': 1,\n",
              "   'max_iterations': 2,\n",
              "   'max_search_time': 3,\n",
              "   'parallelism': 5,\n",
              "   'cross_validation_stratergy': 'Time-based K-fold(with overlap)',\n",
              "   'num_of_folds': 6,\n",
              "   'split_ratio': 0,\n",
              "   'stratified': True},\n",
              "  'weighting_stratergy': {'weighting_stratergy_method': 'Sample weights',\n",
              "   'weighting_stratergy_weight_variable': 'petal_length'},\n",
              "  'probability_calibration': {'probability_calibration_method': 'Sigmoid - Platt Scaling'},\n",
              "  'algorithms': {'RandomForestClassifier': {'model_name': 'Random Forest Classifier',\n",
              "    'is_selected': False,\n",
              "    'min_trees': 10,\n",
              "    'max_trees': 30,\n",
              "    'feature_sampling_statergy': 'Default',\n",
              "    'min_depth': 20,\n",
              "    'max_depth': 30,\n",
              "    'min_samples_per_leaf_min_value': 5,\n",
              "    'min_samples_per_leaf_max_value': 50,\n",
              "    'parallelism': 0},\n",
              "   'RandomForestRegressor': {'model_name': 'Random Forest Regressor',\n",
              "    'is_selected': True,\n",
              "    'min_trees': 10,\n",
              "    'max_trees': 20,\n",
              "    'feature_sampling_statergy': 'Default',\n",
              "    'min_depth': 20,\n",
              "    'max_depth': 25,\n",
              "    'min_samples_per_leaf_min_value': 5,\n",
              "    'min_samples_per_leaf_max_value': 10,\n",
              "    'parallelism': 0},\n",
              "   'GBTClassifier': {'model_name': 'Gradient Boosted Trees',\n",
              "    'is_selected': False,\n",
              "    'num_of_BoostingStages': [67, 89],\n",
              "    'feature_sampling_statergy': 'Fixed number',\n",
              "    'learningRate': [],\n",
              "    'use_deviance': True,\n",
              "    'use_exponential': False,\n",
              "    'fixed_number': 22,\n",
              "    'min_subsample': 1,\n",
              "    'max_subsample': 2,\n",
              "    'min_stepsize': 0.1,\n",
              "    'max_stepsize': 0.5,\n",
              "    'min_iter': 20,\n",
              "    'max_iter': 40,\n",
              "    'min_depth': 5,\n",
              "    'max_depth': 7},\n",
              "   'GBTRegressor': {'model_name': 'Gradient Boosted Trees',\n",
              "    'is_selected': False,\n",
              "    'num_of_BoostingStages': [67, 89],\n",
              "    'feature_sampling_statergy': 'Fixed number',\n",
              "    'use_deviance': True,\n",
              "    'use_exponential': False,\n",
              "    'fixed_number': 22,\n",
              "    'min_subsample': 1,\n",
              "    'max_subsample': 2,\n",
              "    'min_stepsize': 0.1,\n",
              "    'max_stepsize': 0.5,\n",
              "    'min_iter': 20,\n",
              "    'max_iter': 40,\n",
              "    'min_depth': 5,\n",
              "    'max_depth': 7},\n",
              "   'LinearRegression': {'model_name': 'LinearRegression',\n",
              "    'is_selected': False,\n",
              "    'parallelism': 2,\n",
              "    'min_iter': 30,\n",
              "    'max_iter': 50,\n",
              "    'min_regparam': 0.5,\n",
              "    'max_regparam': 0.8,\n",
              "    'min_elasticnet': 0.5,\n",
              "    'max_elasticnet': 0.8},\n",
              "   'LogisticRegression': {'model_name': 'LogisticRegression',\n",
              "    'is_selected': False,\n",
              "    'parallelism': 2,\n",
              "    'min_iter': 30,\n",
              "    'max_iter': 50,\n",
              "    'min_regparam': 0.5,\n",
              "    'max_regparam': 0.8,\n",
              "    'min_elasticnet': 0.5,\n",
              "    'max_elasticnet': 0.8},\n",
              "   'RidgeRegression': {'model_name': 'RidgeRegression',\n",
              "    'is_selected': False,\n",
              "    'regularization_term': 'Specify values to test',\n",
              "    'min_iter': 30,\n",
              "    'max_iter': 50,\n",
              "    'min_regparam': 0.5,\n",
              "    'max_regparam': 0.8},\n",
              "   'LassoRegression': {'model_name': 'Lasso Regression',\n",
              "    'is_selected': False,\n",
              "    'regularization_term': 'Specify values to test',\n",
              "    'min_iter': 30,\n",
              "    'max_iter': 50,\n",
              "    'min_regparam': 0.5,\n",
              "    'max_regparam': 0.8},\n",
              "   'ElasticNetRegression': {'model_name': 'Lasso Regression',\n",
              "    'is_selected': False,\n",
              "    'regularization_term': 'Specify values to test',\n",
              "    'min_iter': 30,\n",
              "    'max_iter': 50,\n",
              "    'min_regparam': 0.5,\n",
              "    'max_regparam': 0.8,\n",
              "    'min_elasticnet': 0.5,\n",
              "    'max_elasticnet': 0.8},\n",
              "   'xg_boost': {'model_name': 'XG Boost',\n",
              "    'is_selected': False,\n",
              "    'use_gradient_boosted_tree': True,\n",
              "    'dart': True,\n",
              "    'tree_method': '',\n",
              "    'random_state': 0,\n",
              "    'max_num_of_trees': 0,\n",
              "    'early_stopping': True,\n",
              "    'early_stopping_rounds': 2,\n",
              "    'max_depth_of_tree': [56, 89],\n",
              "    'learningRate': [89, 76],\n",
              "    'l1_regularization': [77],\n",
              "    'l2_regularization': [78],\n",
              "    'gamma': [68],\n",
              "    'min_child_weight': [67],\n",
              "    'sub_sample': [67],\n",
              "    'col_sample_by_tree': [67],\n",
              "    'replace_missing_values': False,\n",
              "    'parallelism': 0},\n",
              "   'DecisionTreeRegressor': {'model_name': 'Decision Tree',\n",
              "    'is_selected': False,\n",
              "    'min_depth': 4,\n",
              "    'max_depth': 7,\n",
              "    'use_gini': False,\n",
              "    'use_entropy': True,\n",
              "    'min_samples_per_leaf': [12, 6],\n",
              "    'use_best': True,\n",
              "    'use_random': True},\n",
              "   'DecisionTreeClassifier': {'model_name': 'Decision Tree',\n",
              "    'is_selected': False,\n",
              "    'min_depth': 4,\n",
              "    'max_depth': 7,\n",
              "    'use_gini': False,\n",
              "    'use_entropy': True,\n",
              "    'min_samples_per_leaf': [12, 6],\n",
              "    'use_best': True,\n",
              "    'use_random': True},\n",
              "   'SVM': {'model_name': 'Support Vector Machine',\n",
              "    'is_selected': False,\n",
              "    'linear_kernel': True,\n",
              "    'rep_kernel': True,\n",
              "    'polynomial_kernel': True,\n",
              "    'sigmoid_kernel': True,\n",
              "    'c_value': [566, 79],\n",
              "    'auto': True,\n",
              "    'scale': True,\n",
              "    'custom_gamma_values': True,\n",
              "    'tolerance': 7,\n",
              "    'max_iterations': 7},\n",
              "   'SGD': {'model_name': 'Stochastic Gradient Descent',\n",
              "    'is_selected': False,\n",
              "    'use_logistics': True,\n",
              "    'use_modified_hubber_loss': False,\n",
              "    'max_iterations': False,\n",
              "    'tolerance': 56,\n",
              "    'use_l1_regularization': 'on',\n",
              "    'use_l2_regularization': 'on',\n",
              "    'use_elastic_net_regularization': True,\n",
              "    'alpha_value': [79, 56],\n",
              "    'parallelism': 1},\n",
              "   'KNN': {'model_name': 'KNN',\n",
              "    'is_selected': False,\n",
              "    'k_value': [78],\n",
              "    'distance_weighting': True,\n",
              "    'neighbour_finding_algorithm': 'Automatic',\n",
              "    'random_state': 0,\n",
              "    'p_value': 0},\n",
              "   'extra_random_trees': {'model_name': 'Extra Random Trees',\n",
              "    'is_selected': False,\n",
              "    'num_of_trees': [45, 489],\n",
              "    'feature_sampling_statergy': 'Square root and Logarithm',\n",
              "    'max_depth': [12, 45],\n",
              "    'min_samples_per_leaf': [78, 56],\n",
              "    'parallelism': 3},\n",
              "   'neural_network': {'model_name': 'Neural Network',\n",
              "    'is_selected': False,\n",
              "    'hidden_layer_sizes': [67, 89],\n",
              "    'activation': '',\n",
              "    'alpha_value': 0,\n",
              "    'max_iterations': 0,\n",
              "    'convergence_tolerance': 0,\n",
              "    'early_stopping': True,\n",
              "    'solver': 'ADAM',\n",
              "    'shuffle_data': True,\n",
              "    'initial_learning_rate': 0,\n",
              "    'automatic_batching': True,\n",
              "    'beta_1': 0,\n",
              "    'beta_2': 0,\n",
              "    'epsilon': 0,\n",
              "    'power_t': 0,\n",
              "    'momentum': 0,\n",
              "    'use_nesterov_momentum': False}}}}"
            ]
          },
          "metadata": {},
          "execution_count": 39
        }
      ]
    },
    {
      "cell_type": "code",
      "source": [
        "print(data['design_state_data']['target'])"
      ],
      "metadata": {
        "colab": {
          "base_uri": "https://localhost:8080/"
        },
        "id": "VQ2dyGhCmsDL",
        "outputId": "65caecf4-8157-4cde-f385-64ca4af815c9"
      },
      "execution_count": 40,
      "outputs": [
        {
          "output_type": "stream",
          "name": "stdout",
          "text": [
            "{'prediction_type': 'Regression', 'target': 'petal_width', 'type': 'regression', 'partitioning': True}\n"
          ]
        }
      ]
    },
    {
      "cell_type": "code",
      "source": [
        "import pandas as pd\n",
        "\n",
        "# Read the CSV file into a DataFrame\n",
        "df = pd.read_csv('iris.csv')\n",
        "\n",
        "# Get the column names\n",
        "features = df.columns\n",
        "\n",
        "for feature in features:\n",
        "    missing_values = df[feature].isnull().sum()\n",
        "    print(\"Missing Value Count for\",feature,' : ',missing_values)"
      ],
      "metadata": {
        "id": "UkIKGIkBmwr2",
        "outputId": "e0a419f9-1973-4cca-bc07-2346463974d1",
        "colab": {
          "base_uri": "https://localhost:8080/"
        }
      },
      "execution_count": 41,
      "outputs": [
        {
          "output_type": "stream",
          "name": "stdout",
          "text": [
            "Missing Value Count for sepal_length  :  0\n",
            "Missing Value Count for sepal_width  :  0\n",
            "Missing Value Count for petal_length  :  0\n",
            "Missing Value Count for petal_width  :  0\n",
            "Missing Value Count for species  :  0\n"
          ]
        }
      ]
    },
    {
      "cell_type": "code",
      "source": [
        "# As there are no missing values in our dataset we won't be running this block\n",
        "\n",
        "df['sepal_length'] = df['sepal_length'].fillna(df['sepal_length'].mean())"
      ],
      "metadata": {
        "id": "3OcPv6lLm1EO"
      },
      "execution_count": 43,
      "outputs": []
    },
    {
      "cell_type": "code",
      "source": [
        "import pandas as pd\n",
        "import numpy as np\n",
        "from sklearn.decomposition import PCA\n",
        "from sklearn.ensemble import RandomForestClassifier\n",
        "from sklearn.feature_selection import SelectFromModel\n",
        "\n",
        "def reduce_features(df, method, target, **kwargs):\n",
        "    if method == \"No Reduction\":\n",
        "        return df\n",
        "    elif method == \"Corr with Target\":\n",
        "        corr = df.corr()[target]\n",
        "        correlated_features = corr[np.abs(corr) > kwargs[\"threshold\"]].index\n",
        "        return df[correlated_features]\n",
        "    elif method == \"Tree-based\":\n",
        "        X = df.drop(target, axis=1)\n",
        "        y = df[target]\n",
        "        clf = RandomForestClassifier(random_state=0)\n",
        "        sfm = SelectFromModel(clf, threshold=kwargs[\"threshold\"])\n",
        "        sfm.fit(X, y)\n",
        "        return X.columns[sfm.get_support()]\n",
        "    elif method == \"PCA\":\n",
        "        target = 'species'\n",
        "        X = df.drop(target, axis=1)\n",
        "        y = df[target]\n",
        "        pca = PCA(n_components=kwargs[\"n_components\"])\n",
        "        pca.fit(X)\n",
        "        return pca.transform(X)\n",
        "    else:\n",
        "        raise ValueError(\"Invalid method selected\")\n"
      ],
      "metadata": {
        "id": "T8reDu2BRAJU"
      },
      "execution_count": 44,
      "outputs": []
    },
    {
      "cell_type": "code",
      "source": [
        "# Example usage:\n",
        "Iris = pd.read_csv(\"iris.csv\")\n",
        "# df = df.drop(df.columns[-1], axis=1)\n",
        "reduced_data = reduce_features(Iris, \"PCA\", \"species\", n_components=0.9)"
      ],
      "metadata": {
        "id": "v_bRInLWRIvT"
      },
      "execution_count": 45,
      "outputs": []
    },
    {
      "cell_type": "code",
      "source": [
        "for i in data['design_state_data']['algorithms']:\n",
        "  print(i)"
      ],
      "metadata": {
        "colab": {
          "base_uri": "https://localhost:8080/"
        },
        "id": "GX9_6ssbRJaz",
        "outputId": "ef532efc-ebdc-422d-e62f-0ea3ca11da80"
      },
      "execution_count": 46,
      "outputs": [
        {
          "output_type": "stream",
          "name": "stdout",
          "text": [
            "RandomForestClassifier\n",
            "RandomForestRegressor\n",
            "GBTClassifier\n",
            "GBTRegressor\n",
            "LinearRegression\n",
            "LogisticRegression\n",
            "RidgeRegression\n",
            "LassoRegression\n",
            "ElasticNetRegression\n",
            "xg_boost\n",
            "DecisionTreeRegressor\n",
            "DecisionTreeClassifier\n",
            "SVM\n",
            "SGD\n",
            "KNN\n",
            "extra_random_trees\n",
            "neural_network\n"
          ]
        }
      ]
    },
    {
      "cell_type": "code",
      "source": [
        "from sklearn.linear_model import LinearRegression, LogisticRegression\n",
        "from sklearn.neighbors import KNeighborsClassifier"
      ],
      "metadata": {
        "id": "RKP6UKmPWEBV"
      },
      "execution_count": 26,
      "outputs": []
    },
    {
      "cell_type": "code",
      "source": [
        "# Get the prediction_type from JSON\n",
        "prediction_type = data['design_state_data']['target']['prediction_type'].lower()\n",
        "\n",
        "if prediction_type == \"classification\":\n",
        "    model = LogisticRegression()\n",
        "elif prediction_type == \"regression\":\n",
        "    model = LinearRegression()\n",
        "    print(\"Linear Regression \")\n",
        "elif prediction_type == \"clustering\":\n",
        "    model = KNeighborsClassifier()\n",
        "else:\n",
        "    raise ValueError(\"Invalid prediction_type specified in JSON.\")"
      ],
      "metadata": {
        "colab": {
          "base_uri": "https://localhost:8080/"
        },
        "id": "axM9R8XLWPPm",
        "outputId": "dd28d977-397c-4f8a-d42f-0a067175a320"
      },
      "execution_count": 27,
      "outputs": [
        {
          "output_type": "stream",
          "name": "stdout",
          "text": [
            "Linear Regression \n"
          ]
        }
      ]
    },
    {
      "cell_type": "code",
      "source": [
        "X = df[[\"sepal_length\",\"sepal_width\",\"petal_length\",\"petal_width\"]]\n",
        "y = df[\"species\"]"
      ],
      "metadata": {
        "id": "g6Va01gzzGFv"
      },
      "execution_count": 47,
      "outputs": []
    },
    {
      "cell_type": "code",
      "source": [
        "import json\n",
        "from sklearn.model_selection import GridSearchCV\n",
        "from sklearn.svm import SVC\n",
        "\n",
        "# Define the parameter grid\n",
        "param_grid = {'C': [0.1, 1, 10], 'kernel': ['linear', 'rbf']}\n",
        "\n",
        "# Create an instance of SVC\n",
        "svc = SVC()\n",
        "\n",
        "# Create the grid search object\n",
        "grid_search = GridSearchCV(svc, param_grid, cv=5)\n",
        "\n",
        "# Fit the grid search to the data\n",
        "grid_search.fit(X, y)\n",
        "\n",
        "# Save the best parameters to a JSON file\n",
        "best_params = grid_search.best_params_\n",
        "with open('best_params.json', 'w') as f:\n",
        "    json.dump(best_params, f)"
      ],
      "metadata": {
        "id": "JnQm3KuCWT3m"
      },
      "execution_count": 48,
      "outputs": []
    },
    {
      "cell_type": "code",
      "source": [
        "# Grid search cross validation\n",
        "from sklearn.model_selection import GridSearchCV\n",
        "from sklearn.linear_model import LogisticRegression\n",
        "grid_search={\"C\":np.logspace(-3,3,7), \"penalty\":[\"l1\",\"l2\"]}# l1 lasso l2 ridge\n",
        "log=LogisticRegression()\n",
        "log_cv=GridSearchCV(log,grid_search,cv=10)\n",
        "log_cv.fit(X,y)\n",
        "\n",
        "print(\"tuned hpyerparameters :(best parameters) \",log_cv.best_params_)\n",
        "print(\"accuracy :\",log_cv.best_score_)"
      ],
      "metadata": {
        "colab": {
          "base_uri": "https://localhost:8080/"
        },
        "id": "aFxfnYTsydKm",
        "outputId": "060481ca-18ce-4560-a581-114853a1730a"
      },
      "execution_count": 50,
      "outputs": [
        {
          "output_type": "stream",
          "name": "stdout",
          "text": [
            "tuned hpyerparameters :(best parameters)  {'C': 10.0, 'penalty': 'l2'}\n",
            "accuracy : 0.9866666666666667\n"
          ]
        }
      ]
    }
  ]
}